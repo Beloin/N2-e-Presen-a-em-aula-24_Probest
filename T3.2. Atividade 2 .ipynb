{
 "cells": [
  {
   "cell_type": "markdown",
   "id": "d7c1ffc9",
   "metadata": {},
   "source": [
    "# T3.2 / N2 e Presença em aulas: 25, 26 e 27"
   ]
  },
  {
   "cell_type": "code",
   "execution_count": 2,
   "id": "50a81e1a",
   "metadata": {},
   "outputs": [],
   "source": [
    "import pandas as pd\n",
    "import numpy as np"
   ]
  },
  {
   "cell_type": "markdown",
   "id": "3c55a2ce",
   "metadata": {},
   "source": [
    "## 1 - Determine, para variável (Y):\n",
    "\n",
    "### 1.1 -  A distribuição de frequência por classes;"
   ]
  },
  {
   "cell_type": "code",
   "execution_count": 14,
   "id": "e1d941af",
   "metadata": {},
   "outputs": [],
   "source": [
    "# Recuperamos os dados\n",
    "dados = pd.read_csv('./Dados semana 1 a 20 - Covid 2021 - Página1.csv')"
   ]
  },
  {
   "cell_type": "code",
   "execution_count": 15,
   "id": "359b4c23",
   "metadata": {},
   "outputs": [
    {
     "data": {
      "text/html": [
       "<div>\n",
       "<style scoped>\n",
       "    .dataframe tbody tr th:only-of-type {\n",
       "        vertical-align: middle;\n",
       "    }\n",
       "\n",
       "    .dataframe tbody tr th {\n",
       "        vertical-align: top;\n",
       "    }\n",
       "\n",
       "    .dataframe thead th {\n",
       "        text-align: right;\n",
       "    }\n",
       "</style>\n",
       "<table border=\"1\" class=\"dataframe\">\n",
       "  <thead>\n",
       "    <tr style=\"text-align: right;\">\n",
       "      <th></th>\n",
       "      <th>Semana</th>\n",
       "      <th>Casos</th>\n",
       "      <th>Obitos</th>\n",
       "    </tr>\n",
       "  </thead>\n",
       "  <tbody>\n",
       "    <tr>\n",
       "      <th>0</th>\n",
       "      <td>1</td>\n",
       "      <td>359593</td>\n",
       "      <td>6906</td>\n",
       "    </tr>\n",
       "    <tr>\n",
       "      <th>1</th>\n",
       "      <td>2</td>\n",
       "      <td>379061</td>\n",
       "      <td>6665</td>\n",
       "    </tr>\n",
       "    <tr>\n",
       "      <th>2</th>\n",
       "      <td>3</td>\n",
       "      <td>361195</td>\n",
       "      <td>7149</td>\n",
       "    </tr>\n",
       "    <tr>\n",
       "      <th>3</th>\n",
       "      <td>4</td>\n",
       "      <td>360721</td>\n",
       "      <td>7500</td>\n",
       "    </tr>\n",
       "    <tr>\n",
       "      <th>4</th>\n",
       "      <td>5</td>\n",
       "      <td>320820</td>\n",
       "      <td>7067</td>\n",
       "    </tr>\n",
       "  </tbody>\n",
       "</table>\n",
       "</div>"
      ],
      "text/plain": [
       "   Semana   Casos  Obitos\n",
       "0       1  359593    6906\n",
       "1       2  379061    6665\n",
       "2       3  361195    7149\n",
       "3       4  360721    7500\n",
       "4       5  320820    7067"
      ]
     },
     "execution_count": 15,
     "metadata": {},
     "output_type": "execute_result"
    }
   ],
   "source": [
    "# Vamos mostrar os primeiros 5 dados:\n",
    "dados.head()"
   ]
  },
  {
   "cell_type": "code",
   "execution_count": 13,
   "id": "12686543",
   "metadata": {},
   "outputs": [
    {
     "name": "stdout",
     "output_type": "stream",
     "text": [
      "Teremos 5 Classes.\n"
     ]
    }
   ],
   "source": [
    "# Dividimos as classes => Raiz de Quantidade Total (N) para N >= 25\n",
    "n = len(dados.Obitos)\n",
    "k = sqrt(n) if n >= 25 else 5\n",
    "print(f'Teremos {k} Classes.')"
   ]
  },
  {
   "cell_type": "code",
   "execution_count": 17,
   "id": "af14282b",
   "metadata": {},
   "outputs": [
    {
     "name": "stdout",
     "output_type": "stream",
     "text": [
      "Classes retiradas [(6665, 9560.2), (9560.2, 12455.400000000001), (12455.400000000001, 15350.600000000002), (15350.600000000002, 18245.800000000003), (18245.800000000003, 21141.000000000004)]\n"
     ]
    }
   ],
   "source": [
    "value = dados.Obitos.min()\n",
    "classes = []\n",
    "toAdd = (dados.Obitos.max() - dados.Obitos.min()) / k\n",
    "while value <= dados.Obitos.max():\n",
    "    classes.append((value, value + toAdd))\n",
    "    value += toAdd\n",
    "print('Classes retiradas', classes)"
   ]
  },
  {
   "cell_type": "code",
   "execution_count": 20,
   "id": "6eb472b5",
   "metadata": {},
   "outputs": [],
   "source": [
    "# Item de classes\n",
    "Y_freq = [] # (min, max, classes)\n",
    "for min, max in classes:\n",
    "    item_classe = dados.Obitos.loc[(dados.Obitos >= min) & (dados.Obitos < max)]\n",
    "    Y_freq.append((min, max, item_classe.values))"
   ]
  },
  {
   "cell_type": "code",
   "execution_count": 40,
   "id": "428c0a4d",
   "metadata": {},
   "outputs": [
    {
     "name": "stdout",
     "output_type": "stream",
     "text": [
      "A FrequÊncia da variável Y (óbitos) se dá por:\n"
     ]
    },
    {
     "data": {
      "text/html": [
       "<div>\n",
       "<style scoped>\n",
       "    .dataframe tbody tr th:only-of-type {\n",
       "        vertical-align: middle;\n",
       "    }\n",
       "\n",
       "    .dataframe tbody tr th {\n",
       "        vertical-align: top;\n",
       "    }\n",
       "\n",
       "    .dataframe thead th {\n",
       "        text-align: right;\n",
       "    }\n",
       "</style>\n",
       "<table border=\"1\" class=\"dataframe\">\n",
       "  <thead>\n",
       "    <tr style=\"text-align: right;\">\n",
       "      <th></th>\n",
       "      <th>Classe</th>\n",
       "      <th>Itens</th>\n",
       "      <th>Frequencia_Absoluta</th>\n",
       "      <th>Frequencia_Relativa</th>\n",
       "    </tr>\n",
       "  </thead>\n",
       "  <tbody>\n",
       "    <tr>\n",
       "      <th>0</th>\n",
       "      <td>[6665-9560[</td>\n",
       "      <td>[6906, 6665, 7149, 7500, 7067, 7520, 7445, 8244]</td>\n",
       "      <td>8</td>\n",
       "      <td>40.0</td>\n",
       "    </tr>\n",
       "    <tr>\n",
       "      <th>1</th>\n",
       "      <td>[9560-12455[</td>\n",
       "      <td>[10104]</td>\n",
       "      <td>1</td>\n",
       "      <td>5.0</td>\n",
       "    </tr>\n",
       "    <tr>\n",
       "      <th>2</th>\n",
       "      <td>[12455-15350[</td>\n",
       "      <td>[12766, 14879, 13399, 13493]</td>\n",
       "      <td>4</td>\n",
       "      <td>20.0</td>\n",
       "    </tr>\n",
       "    <tr>\n",
       "      <th>3</th>\n",
       "      <td>[15350-18245[</td>\n",
       "      <td>[15661, 17798, 17814, 16945]</td>\n",
       "      <td>4</td>\n",
       "      <td>20.0</td>\n",
       "    </tr>\n",
       "    <tr>\n",
       "      <th>4</th>\n",
       "      <td>[18245-21141[</td>\n",
       "      <td>[19643, 21141, 20344]</td>\n",
       "      <td>3</td>\n",
       "      <td>15.0</td>\n",
       "    </tr>\n",
       "  </tbody>\n",
       "</table>\n",
       "</div>"
      ],
      "text/plain": [
       "          Classe                                             Itens  \\\n",
       "0    [6665-9560[  [6906, 6665, 7149, 7500, 7067, 7520, 7445, 8244]   \n",
       "1   [9560-12455[                                           [10104]   \n",
       "2  [12455-15350[                      [12766, 14879, 13399, 13493]   \n",
       "3  [15350-18245[                      [15661, 17798, 17814, 16945]   \n",
       "4  [18245-21141[                             [19643, 21141, 20344]   \n",
       "\n",
       "   Frequencia_Absoluta  Frequencia_Relativa  \n",
       "0                    8                 40.0  \n",
       "1                    1                  5.0  \n",
       "2                    4                 20.0  \n",
       "3                    4                 20.0  \n",
       "4                    3                 15.0  "
      ]
     },
     "execution_count": 40,
     "metadata": {},
     "output_type": "execute_result"
    }
   ],
   "source": [
    "freq_data = {'Classe':[], 'Itens': [], 'Frequencia_Absoluta': [], 'Frequencia_Relativa': []}\n",
    "for min, max, items in Y_freq:\n",
    "    freq_data['Classe'].append(f'[{int(min)}-{int(max)}[')\n",
    "    freq_data['Itens'].append(items)\n",
    "    freq_data['Frequencia_Absoluta'].append(len(items))\n",
    "    freq_data['Frequencia_Relativa'].append((len(items) / len(dados.Obitos)) * 100)\n",
    "\n",
    "    \n",
    "print('A FrequÊncia da variável Y (óbitos) se dá por:')\n",
    "freq_dataframe = pd.DataFrame(freq_data)\n",
    "freq_dataframe"
   ]
  },
  {
   "cell_type": "markdown",
   "id": "c3f5879d",
   "metadata": {},
   "source": [
    "###  1.2 - Os gráficos: Histograma e Polígono de Frequências simples;"
   ]
  },
  {
   "cell_type": "code",
   "execution_count": 66,
   "id": "de1023c8",
   "metadata": {},
   "outputs": [
    {
     "data": {
      "image/png": "[encoded data removed]",
      "text/plain": [
       "<Figure size 432x288 with 1 Axes>"
      ]
     },
     "metadata": {},
     "output_type": "display_data"
    }
   ],
   "source": [
    "# Importar a biblioteca para desenho dos gráficos\n",
    "import seaborn as srn\n",
    "srn.set(style=\"darkgrid\")\n",
    "srn_plot = srn.histplot(dados.Obitos)"
   ]
  },
  {
   "cell_type": "code",
   "execution_count": 51,
   "id": "644119ad",
   "metadata": {},
   "outputs": [
    {
     "data": {
      "text/plain": [
       "[<matplotlib.lines.Line2D at 0x2d57ba02520>]"
      ]
     },
     "execution_count": 51,
     "metadata": {},
     "output_type": "execute_result"
    },
    {
     "data": {
      "image/png": "[encoded data removed]",
      "text/plain": [
       "<Figure size 432x288 with 1 Axes>"
      ]
     },
     "metadata": {
      "needs_background": "light"
     },
     "output_type": "display_data"
    }
   ],
   "source": [
    "import matplotlib.pyplot as plt\n",
    "plt.plot(freq_dataframe.Classe, freq_dataframe.Frequencia_Absoluta)"
   ]
  }
 ],
 "metadata": {
  "kernelspec": {
   "display_name": "Python 3",
   "language": "python",
   "name": "python3"
  },
  "language_info": {
   "codemirror_mode": {
    "name": "ipython",
    "version": 3
   },
   "file_extension": ".py",
   "mimetype": "text/x-python",
   "name": "python",
   "nbconvert_exporter": "python",
   "pygments_lexer": "ipython3",
   "version": "3.8.8"
  }
 },
 "nbformat": 4,
 "nbformat_minor": 5
}
